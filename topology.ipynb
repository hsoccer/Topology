{
 "cells": [
  {
   "cell_type": "code",
   "execution_count": 1,
   "metadata": {
    "collapsed": true
   },
   "outputs": [],
   "source": [
    "from itertools import permutations, combinations, product\n",
    "import numpy as np"
   ]
  },
  {
   "cell_type": "code",
   "execution_count": 2,
   "metadata": {
    "collapsed": true
   },
   "outputs": [],
   "source": [
    "# judge whether it is topology\n",
    "def is_topology(universal_set, topology):\n",
    "    return first_condition(universal_set, topology) and second_condition(universal_set, topology) and third_condition(universal_set, topology)"
   ]
  },
  {
   "cell_type": "code",
   "execution_count": 3,
   "metadata": {
    "collapsed": true
   },
   "outputs": [],
   "source": [
    "def first_condition(universal_set, topology):\n",
    "    return set([]) in topology and universal_set in topology"
   ]
  },
  {
   "cell_type": "code",
   "execution_count": 4,
   "metadata": {
    "collapsed": false
   },
   "outputs": [],
   "source": [
    "def second_condition(universal_set, topology):\n",
    "    length = len(topology)\n",
    "    for i in range(length+1):\n",
    "        for elem_tuple in combinations(topology, i):\n",
    "            aggregated_set = set()\n",
    "            for elem in elem_tuple:\n",
    "                aggregated_set |= set(elem)\n",
    "            if not aggregated_set in topology:\n",
    "                return False\n",
    "    return True"
   ]
  },
  {
   "cell_type": "code",
   "execution_count": 5,
   "metadata": {
    "collapsed": true
   },
   "outputs": [],
   "source": [
    "def third_condition(universal_set, topology):\n",
    "    length = len(topology)\n",
    "    for i in range(length+1):\n",
    "        for elem_tuple in combinations(topology, i):\n",
    "            intersected_set = set(universal_set)\n",
    "            for elem in elem_tuple:\n",
    "                intersected_set &= set(elem)\n",
    "            if not intersected_set in topology:\n",
    "                return False\n",
    "    return True"
   ]
  },
  {
   "cell_type": "code",
   "execution_count": 6,
   "metadata": {
    "collapsed": true
   },
   "outputs": [],
   "source": [
    "def is_T1(universal_set, topology):\n",
    "    for x in X:\n",
    "        for y in X - {x}:\n",
    "            flag = False\n",
    "            for U in topology:\n",
    "                if x in U and y not in U:\n",
    "                    flag = True\n",
    "                    break\n",
    "            if not flag:\n",
    "                return False\n",
    "    return True"
   ]
  },
  {
   "cell_type": "code",
   "execution_count": 7,
   "metadata": {
    "collapsed": true
   },
   "outputs": [],
   "source": [
    "def is_T2(universal_set, topology):\n",
    "    for x in X:\n",
    "        for y in X - {x}:\n",
    "            flag = False\n",
    "            for U in topology:\n",
    "                break_flag = False\n",
    "                for V in topology:\n",
    "                    if U & V == set([]) and x in U and y in V:\n",
    "                        flag = True\n",
    "                        break_flag = True\n",
    "                        break\n",
    "                if break_flag:\n",
    "                    break\n",
    "            if not flag:\n",
    "                return False\n",
    "    return True"
   ]
  },
  {
   "cell_type": "code",
   "execution_count": 8,
   "metadata": {
    "collapsed": true
   },
   "outputs": [],
   "source": [
    "def is_T3(universal_set, topology):\n",
    "    closed_sets = [X - open_set for open_set in topology]\n",
    "    for x in X:\n",
    "        for closed_set in closed_sets:\n",
    "            flag = False\n",
    "            if x in closed_set:\n",
    "                continue\n",
    "            for U in topology:\n",
    "                break_flag = False\n",
    "                for V in topology:\n",
    "                    if U & V == set([]) and x in U and closed_set <= V:\n",
    "                        flag = True\n",
    "                        break_flag = True\n",
    "                        break\n",
    "                if break_flag:\n",
    "                    break\n",
    "            if not flag:\n",
    "                return False\n",
    "    return True"
   ]
  },
  {
   "cell_type": "code",
   "execution_count": 9,
   "metadata": {
    "collapsed": true
   },
   "outputs": [],
   "source": [
    "def is_T4(universal_set, topology):\n",
    "    closed_sets = [X - open_set for open_set in topology]\n",
    "    for closed_set1 in closed_sets:\n",
    "        for closed_set2 in closed_sets:\n",
    "            flag = False\n",
    "            if closed_set1 & closed_set2 != set([]):\n",
    "                continue\n",
    "            for U in topology:\n",
    "                break_flag = False\n",
    "                for V in topology:\n",
    "                    if U & V == set([]) and closed_set1 <= U and closed_set2 <= V:\n",
    "                        flag = True\n",
    "                        break_flag = True\n",
    "                        break\n",
    "                if break_flag:\n",
    "                    break\n",
    "            if not flag:\n",
    "                return False\n",
    "    return True"
   ]
  },
  {
   "cell_type": "code",
   "execution_count": 10,
   "metadata": {
    "collapsed": true
   },
   "outputs": [],
   "source": [
    "# make power set\n",
    "def power_set(universal_set):\n",
    "    res = []\n",
    "    for in_out in product([True, False], repeat=len(universal_set)):\n",
    "        res.append(set(np.array(list(universal_set))[list(in_out)]))\n",
    "    return sorted(res, key=lambda x: len(x))"
   ]
  },
  {
   "cell_type": "code",
   "execution_count": 11,
   "metadata": {
    "collapsed": true
   },
   "outputs": [],
   "source": [
    "# construct possible topologies based on a universal set\n",
    "def make_topology(universal_set):\n",
    "    res = []\n",
    "    power_set_list = np.array(power_set(universal_set))\n",
    "    for in_out in product([True, False], repeat=len(power_set_list)):\n",
    "        candidate = power_set_list[list(in_out)]\n",
    "        if is_topology(universal_set, candidate):\n",
    "            res.append(candidate)\n",
    "    return sorted(res, key=lambda x: len(x))    "
   ]
  },
  {
   "cell_type": "code",
   "execution_count": 12,
   "metadata": {
    "collapsed": true
   },
   "outputs": [],
   "source": [
    "X = set([1, 2, 3, 4])"
   ]
  },
  {
   "cell_type": "code",
   "execution_count": 13,
   "metadata": {
    "collapsed": false,
    "scrolled": true
   },
   "outputs": [],
   "source": [
    "topologies = make_topology(X)"
   ]
  },
  {
   "cell_type": "code",
   "execution_count": 14,
   "metadata": {
    "collapsed": false
   },
   "outputs": [
    {
     "data": {
      "text/plain": [
       "355"
      ]
     },
     "execution_count": 14,
     "metadata": {},
     "output_type": "execute_result"
    }
   ],
   "source": [
    "len(topologies)"
   ]
  },
  {
   "cell_type": "code",
   "execution_count": 15,
   "metadata": {
    "collapsed": false,
    "scrolled": true
   },
   "outputs": [
    {
     "name": "stdout",
     "output_type": "stream",
     "text": [
      "[set() {1} {2} {3} {4} {1, 2} {1, 3} {1, 4} {2, 3} {2, 4} {3, 4} {1, 2, 3}\n",
      " {1, 2, 4} {1, 3, 4} {2, 3, 4} {1, 2, 3, 4}]\n"
     ]
    }
   ],
   "source": [
    "for topo in topologies:\n",
    "    if is_T2(X, topo):\n",
    "        print(topo)"
   ]
  }
 ],
 "metadata": {
  "kernelspec": {
   "display_name": "Python 3",
   "language": "python",
   "name": "python3"
  },
  "language_info": {
   "codemirror_mode": {
    "name": "ipython",
    "version": 3
   },
   "file_extension": ".py",
   "mimetype": "text/x-python",
   "name": "python",
   "nbconvert_exporter": "python",
   "pygments_lexer": "ipython3",
   "version": "3.6.1"
  }
 },
 "nbformat": 4,
 "nbformat_minor": 2
}
